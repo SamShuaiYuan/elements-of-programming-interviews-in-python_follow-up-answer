{
 "cells": [
  {
   "cell_type": "markdown",
   "metadata": {},
   "source": [
    "# 为什么需要装饰器\n",
    "我们假设你的程序实现了say_hello()和say_goodbye()两个函数。"
   ]
  },
  {
   "cell_type": "code",
   "execution_count": 2,
   "metadata": {},
   "outputs": [
    {
     "name": "stdout",
     "output_type": "stream",
     "text": [
      "hello!\n",
      "hello!\n"
     ]
    }
   ],
   "source": [
    "def say_hello():\n",
    "    print(\"hello!\")\n",
    "    \n",
    "def say_goodbye():\n",
    "    print(\"hello!\")  # bug here\n",
    "\n",
    "if __name__ == '__main__':\n",
    "    say_hello()\n",
    "    say_goodbye()"
   ]
  },
  {
   "cell_type": "markdown",
   "metadata": {},
   "source": [
    "但是在实际调用中，我们发现程序出错了，上面的代码打印了两个hello。经过调试你发现是say_goodbye()出错了。老板要求调用每个方法前都要记录进入函数的名称，比如这样：\n",
    "\n",
    "[DEBUG]: Enter say_hello()\n",
    "\n",
    "Hello!\n",
    "\n",
    "[DEBUG]: Enter say_goodbye()\n",
    "\n",
    "Goodbye!\n",
    "\n",
    "好，小A是个毕业生，他是这样实现的"
   ]
  },
  {
   "cell_type": "code",
   "execution_count": 4,
   "metadata": {},
   "outputs": [
    {
     "name": "stdout",
     "output_type": "stream",
     "text": [
      "[DEBUG]: enter say_hello()\n",
      "hello!\n",
      "[DEBUG]: enter say_goodbye()\n",
      "hello!\n"
     ]
    }
   ],
   "source": [
    "def say_hello():\n",
    "    print(\"[DEBUG]: enter say_hello()\")\n",
    "    print(\"hello!\")\n",
    "\n",
    "def say_goodbye():\n",
    "    print(\"[DEBUG]: enter say_goodbye()\")\n",
    "    print(\"hello!\")小B工作有一段时间了，他告诉小A可以这样写。\n",
    "\n",
    "if __name__ == '__main__':\n",
    "    say_hello()\n",
    "    say_goodbye()"
   ]
  },
  {
   "cell_type": "markdown",
   "metadata": {},
   "source": [
    "小B工作有一段时间了，他告诉小A可以这样写。"
   ]
  },
  {
   "cell_type": "code",
   "execution_count": 5,
   "metadata": {},
   "outputs": [
    {
     "name": "stdout",
     "output_type": "stream",
     "text": [
      "[DEBUG]: enter say_hello()\n",
      "hello!\n",
      "[DEBUG]: enter say_goodbye()\n",
      "goodbye!\n"
     ]
    }
   ],
   "source": [
    "def debug():\n",
    "    import inspect\n",
    "    caller_name = inspect.stack()[1][3]\n",
    "    print(\"[DEBUG]: enter {}()\".format(caller_name))   \n",
    "\n",
    "def say_hello():\n",
    "    debug()\n",
    "    print(\"hello!\")\n",
    "\n",
    "def say_goodbye():\n",
    "    debug()\n",
    "    print(\"goodbye!\")\n",
    "\n",
    "if __name__ == '__main__':\n",
    "    say_hello()\n",
    "    say_goodbye()"
   ]
  },
  {
   "cell_type": "markdown",
   "metadata": {},
   "source": [
    "是不是好一点？那当然，但是每个业务函数里都要调用一下debug()函数，是不是很难受？万一老板说say相关的函数不用debug，do相关的才需要呢？\n",
    "\n",
    "那么装饰器这时候应该登场了。\n",
    "\n",
    "装饰器本质上是一个Python函数，它可以让其他函数在不需要做任何代码变动的前提下增加额外功能，装饰器的返回值也是一个函数对象。它经常用于有切面需求的场景，比如：插入日志、性能测试、事务处理、缓存、权限校验等场景。装饰器是解决这类问题的绝佳设计，有了装饰器，我们就可以抽离出大量与函数功能本身无关的雷同代码并继续重用。\n",
    "\n",
    "概括的讲，装饰器的作用就是为已经存在的函数或对象添加额外的功能。"
   ]
  },
  {
   "cell_type": "markdown",
   "metadata": {},
   "source": [
    "# 怎么写装饰器\n",
    "\n",
    "在早些时候 (Python Version < 2.4，2004年以前)，为一个函数添加额外功能的写法是这样的。"
   ]
  },
  {
   "cell_type": "code",
   "execution_count": 9,
   "metadata": {},
   "outputs": [],
   "source": [
    "def debug(func):\n",
    "    def wrapper():\n",
    "        print(\"[DEBUG]: enter {}()\".format(func.__name__))\n",
    "        return func()\n",
    "    return wrapper\n",
    "\n",
    "def say_hello():\n",
    "    print(\"hello!\")\n",
    "\n",
    "say_hello = debug(say_hello)  # 添加功能并保持原函数名不变"
   ]
  },
  {
   "cell_type": "markdown",
   "metadata": {},
   "source": [
    "上面的debug函数其实已经是一个装饰器了，它对原函数做了包装并返回了另外一个函数，额外添加了一些功能。因为这样写实在不太优雅，在后面版本的Python中支持了@语法糖，下面代码等同于早期的写法。"
   ]
  },
  {
   "cell_type": "code",
   "execution_count": 10,
   "metadata": {},
   "outputs": [],
   "source": [
    "def debug(func):\n",
    "    def wrapper():\n",
    "        print(\"[DEBUG]: enter {}()\".format(func.__name__))\n",
    "        return func()\n",
    "    return wrapper\n",
    "\n",
    "@debug\n",
    "def say_hello():\n",
    "    print(\"hello!\")"
   ]
  },
  {
   "cell_type": "markdown",
   "metadata": {},
   "source": [
    "这是最简单的装饰器，但是有一个问题，如果被装饰的函数需要传入参数，那么这个装饰器就坏了。因为返回的函数并不能接受参数，你可以指定装饰器函数wrapper接受和原函数一样的参数，比如："
   ]
  },
  {
   "cell_type": "code",
   "execution_count": 11,
   "metadata": {},
   "outputs": [],
   "source": [
    "def debug(func):\n",
    "    def wrapper(something):  # 指定一毛一样的参数\n",
    "        print(\"[DEBUG]: enter {}()\".format(func.__name__))\n",
    "        return func(something)\n",
    "    return wrapper  # 返回包装过函数\n",
    "\n",
    "@debug\n",
    "def say(something):\n",
    "    print(\"hello {}!\".format(something))"
   ]
  },
  {
   "cell_type": "markdown",
   "metadata": {},
   "source": [
    "这样你就解决了一个问题，但又多了N个问题。因为函数有千千万，你只管你自己的函数，别人的函数参数是什么样子，鬼知道？还好Python提供了可变参数*args和关键字参数**kwargs，有了这两个参数，装饰器就可以用于任意目标函数了。"
   ]
  },
  {
   "cell_type": "code",
   "execution_count": 12,
   "metadata": {},
   "outputs": [],
   "source": [
    "def debug(func):\n",
    "    def wrapper(*args, **kwargs):  # 指定宇宙无敌参数\n",
    "        print(\"[DEBUG]: enter {}()\".format(func.__name__))\n",
    "        return func(*args, **kwargs)\n",
    "    return wrapper  # 返回\n",
    "\n",
    "@debug\n",
    "def say(something):\n",
    "    print(\"hello {}!\".format(something))"
   ]
  },
  {
   "cell_type": "markdown",
   "metadata": {},
   "source": [
    "# 装饰器进阶\n",
    "\n",
    "带参数的装饰器和类装饰器属于进阶的内容。在理解这些装饰器之前，最好对函数的闭包和装饰器的接口约定有一定了解。(参见https://betacat.online/posts/2016-10-23/python-closure/)"
   ]
  },
  {
   "cell_type": "markdown",
   "metadata": {},
   "source": [
    "### 带参数的装饰器\n",
    "\n",
    "假设我们前文的装饰器需要完成的功能不仅仅是能在进入某个函数后打出log信息，而且还需指定log的级别，那么装饰器就会是这样的。"
   ]
  },
  {
   "cell_type": "code",
   "execution_count": 14,
   "metadata": {},
   "outputs": [
    {
     "name": "stdout",
     "output_type": "stream",
     "text": [
      "[INFO]: enter function say()\n",
      "say hello!\n",
      "[DEBUG]: enter function do()\n",
      "do my work...\n"
     ]
    }
   ],
   "source": [
    "def logging(level):\n",
    "    def wrapper(func):\n",
    "        def inner_wrapper(*args, **kwargs):\n",
    "            print(\"[{level}]: enter function {func}()\".format(level=level,\n",
    "                func=func.__name__))\n",
    "            return func(*args, **kwargs)\n",
    "        return inner_wrapper\n",
    "    return wrapper\n",
    "\n",
    "@logging(level='INFO')\n",
    "def say(something):\n",
    "    print(\"say {}!\".format(something))\n",
    "\n",
    "# 如果没有使用@语法，等同于\n",
    "# say = logging(level='INFO')(say)\n",
    "\n",
    "@logging(level='DEBUG')\n",
    "def do(something):\n",
    "    print(\"do {}...\".format(something))\n",
    "\n",
    "if __name__ == '__main__':\n",
    "    say('hello')\n",
    "    do(\"my work\")"
   ]
  },
  {
   "cell_type": "markdown",
   "metadata": {},
   "source": [
    "### 基于类实现的装饰器\n",
    "\n",
    "装饰器函数其实是这样一个接口约束，它必须接受一个callable对象作为参数，然后返回一个callable对象。在Python中一般callable对象都是函数，但也有例外。只要某个对象重载了__call__()方法，那么这个对象就是callable的。"
   ]
  },
  {
   "cell_type": "code",
   "execution_count": 16,
   "metadata": {},
   "outputs": [
    {
     "name": "stdout",
     "output_type": "stream",
     "text": [
      "call me!\n"
     ]
    }
   ],
   "source": [
    "class Test():\n",
    "    def __call__(self):\n",
    "        print('call me!')\n",
    "\n",
    "t = Test()\n",
    "t()  # call me"
   ]
  },
  {
   "cell_type": "markdown",
   "metadata": {},
   "source": [
    "像__call__这样前后都带下划线的方法在Python中被称为内置方法，有时候也被称为魔法方法。重载这些魔法方法一般会改变对象的内部行为。上面这个例子就让一个类对象拥有了被调用的行为。\n",
    "\n",
    "回到装饰器上的概念上来，装饰器要求接受一个callable对象，并返回一个callable对象（不太严谨，详见后文）。那么用类来实现也是也可以的。我们可以让类的构造函数__init__()接受一个函数，然后重载__call__()并返回一个函数，也可以达到装饰器函数的效果。"
   ]
  },
  {
   "cell_type": "code",
   "execution_count": 17,
   "metadata": {},
   "outputs": [],
   "source": [
    "class logging(object):\n",
    "    def __init__(self, func):\n",
    "        self.func = func\n",
    "\n",
    "    def __call__(self, *args, **kwargs):\n",
    "        print(\"[DEBUG]: enter function {func}()\".format(\n",
    "            func=self.func.__name__))\n",
    "        return self.func(*args, **kwargs)\n",
    "@logging\n",
    "def say(something):\n",
    "    print(\"say {}!\".format(something))"
   ]
  },
  {
   "cell_type": "markdown",
   "metadata": {},
   "source": [
    "### 带参数的类装饰器\n",
    "如果需要通过类形式实现带参数的装饰器，那么会比前面的例子稍微复杂一点。那么在构造函数里接受的就不是一个函数，而是传入的参数。通过类把这些参数保存起来。然后在重载__call__方法是就需要接受一个函数并返回一个函数。"
   ]
  },
  {
   "cell_type": "code",
   "execution_count": 18,
   "metadata": {},
   "outputs": [],
   "source": [
    "class logging(object):\n",
    "    def __init__(self, level='INFO'):\n",
    "        self.level = level\n",
    "        \n",
    "    def __call__(self, func): # 接受函数\n",
    "        def wrapper(*args, **kwargs):\n",
    "            print(\"[{level}]: enter function {func}()\".format(\n",
    "                level=self.level,\n",
    "                func=func.__name__))\n",
    "            func(*args, **kwargs)\n",
    "        return wrapper  #返回函数\n",
    "\n",
    "@logging(level='INFO')\n",
    "def say(something):\n",
    "    print(\"say {}!\".format(something))"
   ]
  },
  {
   "cell_type": "markdown",
   "metadata": {},
   "source": [
    "### 内置的装饰器\n",
    "内置的装饰器和普通的装饰器原理是一样的，只不过返回的不是函数，而是类对象，所以更难理解一些。\n",
    "\n",
    "####  @property\n",
    "\n",
    "在了解这个装饰器前，你需要知道在不使用装饰器怎么写一个属性。"
   ]
  },
  {
   "cell_type": "code",
   "execution_count": 19,
   "metadata": {},
   "outputs": [],
   "source": [
    "def getx(self):\n",
    "    return self._x\n",
    "\n",
    "def setx(self, value):\n",
    "    self._x = value\n",
    "    \n",
    "def delx(self):\n",
    "    del self._x\n",
    "\n",
    "# create a property\n",
    "x = property(getx, setx, delx, \"I am doc for x property\")"
   ]
  },
  {
   "cell_type": "markdown",
   "metadata": {},
   "source": [
    "以上就是一个Python属性的标准写法，其实和Java挺像的，但是太罗嗦。有了@语法糖，能达到一样的效果但看起来更简单。"
   ]
  },
  {
   "cell_type": "markdown",
   "metadata": {},
   "source": [
    "@property\n",
    "\n",
    "def x(self): ...\n",
    "\n",
    "等同于\n",
    "\n",
    "def x(self): ...\n",
    "\n",
    "x = property(x)"
   ]
  },
  {
   "cell_type": "markdown",
   "metadata": {},
   "source": [
    "属性有三个装饰器：setter, getter, deleter ，都是在property()的基础上做了一些封装，因为setter和deleter是property()的第二和第三个参数，不能直接套用@语法。getter装饰器和不带getter的属性装饰器效果是一样的，估计只是为了凑数，本身没有任何存在的意义。经过@property装饰过的函数返回的不再是一个函数，而是一个property对象。"
   ]
  },
  {
   "cell_type": "markdown",
   "metadata": {},
   "source": [
    "#### @staticmethod，@classmethod\n",
    "\n",
    "有了@property装饰器的了解，这两个装饰器的原理是差不多的。@staticmethod返回的是一个staticmethod类对象，而@classmethod返回的是一个classmethod类对象。他们都是调用的是各自的__init__()构造函数。"
   ]
  },
  {
   "cell_type": "code",
   "execution_count": 20,
   "metadata": {},
   "outputs": [],
   "source": [
    "class classmethod(object):\n",
    "    \"\"\"\n",
    "    classmethod(function) -> method\n",
    "    \"\"\"    \n",
    "    def __init__(self, function): # for @classmethod decorator\n",
    "        pass\n",
    "    # ...\n",
    "class staticmethod(object):\n",
    "    \"\"\"\n",
    "    staticmethod(function) -> method\n",
    "    \"\"\"\n",
    "    def __init__(self, function): # for @staticmethod decorator\n",
    "        pass\n",
    "    # ..."
   ]
  },
  {
   "cell_type": "markdown",
   "metadata": {},
   "source": [
    "装饰器的@语法就等同调用了这两个类的构造函数。"
   ]
  },
  {
   "cell_type": "code",
   "execution_count": 21,
   "metadata": {},
   "outputs": [],
   "source": [
    "class Foo(object):\n",
    "\n",
    "    @staticmethod\n",
    "    def bar():\n",
    "        pass\n",
    "    \n",
    "    # 等同于 bar = staticmethod(bar)"
   ]
  },
  {
   "cell_type": "markdown",
   "metadata": {},
   "source": [
    "至此，我们上文提到的装饰器接口定义可以更加明确一些，装饰器必须接受一个callable对象，其实它并不关心你返回什么，可以是另外一个callable对象（大部分情况），也可以是其他类对象，比如property。"
   ]
  },
  {
   "cell_type": "markdown",
   "metadata": {},
   "source": [
    "# 装饰器的注意事项\n",
    "\n",
    "### 位置错误的代码"
   ]
  },
  {
   "cell_type": "code",
   "execution_count": 25,
   "metadata": {},
   "outputs": [
    {
     "name": "stdout",
     "output_type": "stream",
     "text": [
      "begin outer function.\n",
      "end of outer function\n",
      "begin of inner wrapper function.\n",
      "end of inner wrapper function.\n",
      "<b>Hello Toby!</b>\n",
      "<b>Hello Toby!</b>\n"
     ]
    }
   ],
   "source": [
    "def html_tags(tag_name):\n",
    "    print('begin outer function.')\n",
    "    def wrapper_(func):\n",
    "        print(\"begin of inner wrapper function.\")\n",
    "        def wrapper(*args, **kwargs):\n",
    "            content = func(*args, **kwargs)\n",
    "            print(\"<{tag}>{content}</{tag}>\".format(tag=tag_name, content=content))\n",
    "        print('end of inner wrapper function.')\n",
    "        return wrapper\n",
    "    print('end of outer function')\n",
    "    return wrapper_\n",
    "\n",
    "@html_tags('b')\n",
    "def hello(name='Toby'):\n",
    "    return 'Hello {}!'.format(name)\n",
    "\n",
    "hello()\n",
    "hello()"
   ]
  },
  {
   "cell_type": "markdown",
   "metadata": {},
   "source": [
    "在装饰器中我在各个可能的位置都加上了print语句，用于记录被调用的情况。你知道他们最后打印出来的顺序吗？如果你心里没底，那么最好不要在装饰器函数之外添加逻辑功能，否则这个装饰器就不受你控制了。"
   ]
  },
  {
   "cell_type": "markdown",
   "metadata": {},
   "source": [
    "### 错误的函数签名和文档 \n",
    "\n",
    "装饰器装饰过的函数看上去名字没变，其实已经变了。"
   ]
  },
  {
   "cell_type": "code",
   "execution_count": 26,
   "metadata": {},
   "outputs": [
    {
     "name": "stdout",
     "output_type": "stream",
     "text": [
      "wrapper\n"
     ]
    }
   ],
   "source": [
    "def logging(func):\n",
    "    def wrapper(*args, **kwargs):\n",
    "        \"\"\"print log before a function.\"\"\"\n",
    "        print(\"[DEBUG] {}: enter {}()\".format(datetime.now(), func.__name__))\n",
    "        return func(*args, **kwargs)\n",
    "    return wrapper\n",
    "\n",
    "@logging\n",
    "def say(something):\n",
    "    \"\"\"say something\"\"\"\n",
    "    print(\"say {}!\".format(something))\n",
    "\n",
    "print(say.__name__) # wrapper"
   ]
  },
  {
   "cell_type": "markdown",
   "metadata": {},
   "source": [
    "logging其实返回的函数名字刚好是wrapper，那么上面的这个语句刚好就是把这个结果赋值给say，say的__name__自然也就是wrapper了，不仅仅是name，其他属性也都是来自wrapper，比如doc，source等等。\n",
    "\n",
    "使用标准库里的functools.wraps，可以基本解决这个问题。"
   ]
  },
  {
   "cell_type": "code",
   "execution_count": 27,
   "metadata": {},
   "outputs": [
    {
     "name": "stdout",
     "output_type": "stream",
     "text": [
      "say\n",
      "say something\n"
     ]
    }
   ],
   "source": [
    "from functools import wraps\n",
    "\n",
    "def logging(func):\n",
    "    @wraps(func)\n",
    "    def wrapper(*args, **kwargs):\n",
    "        \"\"\"print log before a function.\"\"\"\n",
    "        print(\"[DEBUG] {}: enter {}()\".format(datetime.now(), func.__name__))\n",
    "        return func(*args, **kwargs)\n",
    "    return wrapper\n",
    "\n",
    "@logging\n",
    "def say(something):\n",
    "    \"\"\"say something\"\"\"\n",
    "    print(\"say {}!\".format(something)\n",
    ")\n",
    "print(say.__name__ ) # say\n",
    "print(say.__doc__) # say something"
   ]
  },
  {
   "cell_type": "markdown",
   "metadata": {},
   "source": [
    "看上去不错！主要问题解决了，但其实还不太完美。因为函数的签名和源码还是拿不到的。"
   ]
  },
  {
   "cell_type": "code",
   "execution_count": 28,
   "metadata": {},
   "outputs": [
    {
     "name": "stdout",
     "output_type": "stream",
     "text": [
      "ArgSpec(args=[], varargs='args', keywords='kwargs', defaults=None)\n",
      "@logging\n",
      "def say(something):\n",
      "    \"\"\"say something\"\"\"\n",
      "    print(\"say {}!\".format(something)\n",
      ")\n",
      "\n"
     ]
    },
    {
     "name": "stderr",
     "output_type": "stream",
     "text": [
      "C:\\ProgramData\\Anaconda3\\lib\\site-packages\\ipykernel_launcher.py:2: DeprecationWarning: inspect.getargspec() is deprecated since Python 3.0, use inspect.signature() or inspect.getfullargspec()\n",
      "  \n"
     ]
    }
   ],
   "source": [
    "import inspect\n",
    "print(inspect.getargspec(say))  # failed\n",
    "print(inspect.getsource(say))  # failed"
   ]
  },
  {
   "cell_type": "markdown",
   "metadata": {},
   "source": [
    "如果要彻底解决这个问题可以借用第三方包，比如wrapt。后文有介绍。"
   ]
  },
  {
   "cell_type": "markdown",
   "metadata": {},
   "source": [
    "### 不能装饰@staticmethod 或者 @classmethod\n",
    "\n",
    "当你想把装饰器用在一个静态方法或者类方法时，不好意思，报错了。"
   ]
  },
  {
   "cell_type": "code",
   "execution_count": 29,
   "metadata": {},
   "outputs": [
    {
     "data": {
      "text/plain": [
       "'\\nTraceback (most recent call last):\\n...\\n  File \"example_4.py\", line 10, in logging\\n    @wraps(func)\\n  File \"C:\\\\Python27\\\\lib\\x0cunctools.py\", line 33, in update_wrapper\\n    setattr(wrapper, attr, getattr(wrapped, attr))\\nAttributeError: \\'staticmethod\\' object has no attribute \\'__module__\\'\\n'"
      ]
     },
     "execution_count": 29,
     "metadata": {},
     "output_type": "execute_result"
    }
   ],
   "source": [
    "class Car(object):\n",
    "    def __init__(self, model):\n",
    "        self.model = model\n",
    "\n",
    "    @logging  # 装饰实例方法，OK\n",
    "    def run(self):\n",
    "        print(\"{} is running!\".format(self.model))\n",
    "\n",
    "    @logging  # 装饰静态方法，Failed\n",
    "    @staticmethod\n",
    "    def check_model_for(obj):\n",
    "        if isinstance(obj, Car):\n",
    "            print(\"The model of your car is {}\".format(obj.model))\n",
    "        else:\n",
    "            print(\"{} is not a car!\".format(obj))\n",
    "\n",
    "\"\"\"\n",
    "Traceback (most recent call last):\n",
    "...\n",
    "  File \"example_4.py\", line 10, in logging\n",
    "    @wraps(func)\n",
    "  File \"C:\\Python27\\lib\\functools.py\", line 33, in update_wrapper\n",
    "    setattr(wrapper, attr, getattr(wrapped, attr))\n",
    "AttributeError: 'staticmethod' object has no attribute '__module__'\n",
    "\"\"\""
   ]
  },
  {
   "cell_type": "markdown",
   "metadata": {},
   "source": [
    "前面已经解释了@staticmethod这个装饰器，其实它返回的并不是一个callable对象，而是一个staticmethod对象，那么它是不符合装饰器要求的（比如传入一个callable对象），你自然不能在它之上再加别的装饰器。要解决这个问题很简单，只要把你的装饰器放在@staticmethod之前就好了，因为你的装饰器返回的还是一个正常的函数，然后再加上一个@staticmethod是不会出问题的。"
   ]
  },
  {
   "cell_type": "code",
   "execution_count": 30,
   "metadata": {},
   "outputs": [],
   "source": [
    "class Car(object):\n",
    "    def __init__(self, model):\n",
    "        self.model = model\n",
    "\n",
    "    @staticmethod\n",
    "    @logging  # 在@staticmethod之前装饰，OK\n",
    "    def check_model_for(obj):\n",
    "        pass"
   ]
  },
  {
   "cell_type": "markdown",
   "metadata": {},
   "source": [
    "# 装饰器的优化\n",
    "嵌套的装饰函数不太直观，我们可以使用第三方包类改进这样的情况，让装饰器函数可读性更好。\n",
    "\n",
    "### decorator.py\n",
    "\n",
    "decorator.py 是一个非常简单的装饰器加强包。你可以很直观的先定义包装函数wrapper()，再使用decorate(func, wrapper)方法就可以完成一个装饰器。"
   ]
  },
  {
   "cell_type": "code",
   "execution_count": 31,
   "metadata": {},
   "outputs": [],
   "source": [
    "from decorator import decorate\n",
    "\n",
    "def wrapper(func, *args, **kwargs):\n",
    "    \"\"\"print log before a function.\"\"\"\n",
    "    print(\"[DEBUG] {}: enter {}()\".format(datetime.now(), func.__name__))\n",
    "    return func(*args, **kwargs)\n",
    "\n",
    "def logging(func):\n",
    "    return decorate(func, wrapper)  # 用wrapper装饰func"
   ]
  },
  {
   "cell_type": "markdown",
   "metadata": {},
   "source": [
    "你也可以使用它自带的@decorator装饰器来完成你的装饰器。"
   ]
  },
  {
   "cell_type": "code",
   "execution_count": 32,
   "metadata": {},
   "outputs": [],
   "source": [
    "from decorator import decorator\n",
    "\n",
    "@decorator\n",
    "def logging(func, *args, **kwargs):\n",
    "    print(\"[DEBUG] {}: enter {}()\".format(datetime.now(), func.__name__))\n",
    "    return func(*args, **kwargs)"
   ]
  },
  {
   "cell_type": "markdown",
   "metadata": {},
   "source": [
    "decorator.py实现的装饰器能完整保留原函数的name，doc和args，唯一有问题的就是inspect.getsource(func)返回的还是装饰器的源代码，你需要改成inspect.getsource(func.__wrapped__)。\n",
    "\n",
    "### wrapt\n",
    "\n",
    "wrapt是一个功能非常完善的包，用于实现各种你想到或者你没想到的装饰器。使用wrapt实现的装饰器你不需要担心之前inspect中遇到的所有问题，因为它都帮你处理了，甚至inspect.getsource(func)也准确无误。"
   ]
  },
  {
   "cell_type": "code",
   "execution_count": 33,
   "metadata": {},
   "outputs": [],
   "source": [
    "import wrapt\n",
    "\n",
    "# without argument in decorator\n",
    "@wrapt.decorator\n",
    "def logging(wrapped, instance, args, kwargs):  # instance is must\n",
    "    print(\"[DEBUG]: enter {}()\".format(wrapped.__name__))\n",
    "    return wrapped(*args, **kwargs)\n",
    "\n",
    "@logging\n",
    "def say(something): pass"
   ]
  },
  {
   "cell_type": "markdown",
   "metadata": {},
   "source": [
    "使用wrapt你只需要定义一个装饰器函数，但是函数签名是固定的，必须是(wrapped, instance, args, kwargs)，注意第二个参数instance是必须的，就算你不用它。当装饰器装饰在不同位置时它将得到不同的值，比如装饰在类实例方法时你可以拿到这个类实例。根据instance的值你能够更加灵活的调整你的装饰器。另外，args和kwargs也是固定的，注意前面没有星号。在装饰器内部调用原函数时才带星号。\n",
    "\n",
    "如果你需要使用wrapt写一个带参数的装饰器，可以这样写。\n",
    "\n"
   ]
  },
  {
   "cell_type": "code",
   "execution_count": 34,
   "metadata": {},
   "outputs": [],
   "source": [
    "def logging(level):\n",
    "    @wrapt.decorator\n",
    "    def wrapper(wrapped, instance, args, kwargs):\n",
    "        print(\"[{}]: enter {}()\".format(level, wrapped.__name__))\n",
    "        return wrapped(*args, **kwargs)\n",
    "    return wrapper\n",
    "\n",
    "@logging(level=\"INFO\")\n",
    "def do(work): pass"
   ]
  },
  {
   "cell_type": "markdown",
   "metadata": {},
   "source": [
    "关于wrapt的使用，建议查阅官方文档，在此不在赘述。\n",
    "\n",
    "http://wrapt.readthedocs.io/en/latest/quick-start.htm"
   ]
  },
  {
   "cell_type": "markdown",
   "metadata": {},
   "source": [
    "\n",
    "\n",
    "# 小结\n",
    "\n",
    "Python的装饰器和Java的注解（Annotation）并不是同一回事，和C#中的特性（Attribute）也不一样，完全是两个概念。\n",
    "\n",
    "装饰器的理念是对原函数、对象的加强，相当于重新封装，所以一般装饰器函数都被命名为wrapper()，意义在于包装。函数只有在被调用时才会发挥其作用。比如@logging装饰器可以在函数执行时额外输出日志，@cache装饰过的函数可以缓存计算结果等等。\n",
    "\n",
    "而注解和特性则是对目标函数或对象添加一些属性，相当于将其分类。这些属性可以通过反射拿到，在程序运行时对不同的特性函数或对象加以干预。比如带有Setup的函数就当成准备步骤执行，或者找到所有带有TestMethod的函数依次执行等等。"
   ]
  }
 ],
 "metadata": {
  "kernelspec": {
   "display_name": "Python 3",
   "language": "python",
   "name": "python3"
  },
  "language_info": {
   "codemirror_mode": {
    "name": "ipython",
    "version": 3
   },
   "file_extension": ".py",
   "mimetype": "text/x-python",
   "name": "python",
   "nbconvert_exporter": "python",
   "pygments_lexer": "ipython3",
   "version": "3.7.3"
  }
 },
 "nbformat": 4,
 "nbformat_minor": 2
}
