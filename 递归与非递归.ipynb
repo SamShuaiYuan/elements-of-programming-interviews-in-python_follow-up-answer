{
 "cells": [
  {
   "cell_type": "markdown",
   "metadata": {},
   "source": [
    "# 1 递归与非递归的权衡\n",
    "\n",
    "1.1 面试是否要求\n",
    "\n",
    "1.2 非递归是否实现比较复杂\n",
    "\n",
    "1.3 递归是否深度太深导致stack overflow"
   ]
  }
 ],
 "metadata": {
  "kernelspec": {
   "display_name": "Python 3",
   "language": "python",
   "name": "python3"
  },
  "language_info": {
   "codemirror_mode": {
    "name": "ipython",
    "version": 3
   },
   "file_extension": ".py",
   "mimetype": "text/x-python",
   "name": "python",
   "nbconvert_exporter": "python",
   "pygments_lexer": "ipython3",
   "version": "3.7.3"
  }
 },
 "nbformat": 4,
 "nbformat_minor": 2
}
