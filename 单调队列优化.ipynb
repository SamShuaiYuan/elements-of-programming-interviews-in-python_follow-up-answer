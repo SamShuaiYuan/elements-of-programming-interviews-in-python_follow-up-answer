{
 "cells": [
  {
   "cell_type": "markdown",
   "metadata": {},
   "source": [
    "单调队列是一种严格单调的队列，可以单调递增，也可以单调递减。队首位置保存的是最优解，第二个位置保存的是次优解，ect...\n",
    "\n",
    "\n",
    "单调队列可以有两个操作：\n",
    "\n",
    "\n",
    "1、插入一个新的元素，该元素从队尾开始向队首进行搜索，找到合适的位置插入之，如果该位置原本有元素，则替换它。\n",
    "\n",
    "\n",
    "2、在过程中从队首删除不符合当前要求的元素。\n",
    "\n",
    " \n",
    "\n",
    "单调队列实现起来可简单，可复杂。简单的一个数组，一个head，一个tail指针就搞定。复杂的用双向链表实现。\n",
    "\n",
    " \n",
    "\n",
    "用处：\n",
    "\n",
    "\n",
    "1、保存最优解，次优解，ect...\n",
    "\n",
    "\n",
    "2、利用单调队列对dp方程进行优化，可将O(n)复杂度降至O(1)。也就是说，将原本会超时的N维dp降优化至N-1维，以求通过。这也是我想记录的重点\n",
    "\n",
    "\n",
    "是不是任何DP都可以利用单调队列进行优化呢？答案是否定的。\n",
    "\n",
    "\n",
    "只有形如 dp[i]=max/min (f[k]) + g[i]  （k<i && g[i]是与k无关的变量）才能用到单调队列进行优化。\n",
    "\n",
    "\n",
    "优化的对象就是f[k]。\n",
    "\n",
    "例一：\n",
    "\n",
    "给你一个长度为n的整数序列，要求从中找出一段连续的长度不超过m的子序列，使得这个序列的和最大"
   ]
  },
  {
   "cell_type": "code",
   "execution_count": 4,
   "metadata": {},
   "outputs": [
    {
     "name": "stdout",
     "output_type": "stream",
     "text": [
      "7\n"
     ]
    }
   ],
   "source": [
    "def max_subarray(nums, m):\n",
    "    if not nums or m < 1:\n",
    "        return 0\n",
    "    n = len(nums)\n",
    "    s = [0]*(n+1)\n",
    "    for i in range(n):\n",
    "        s[i+1] = s[i] + nums[i]\n",
    "    head, tail = 0, 0\n",
    "    result = float('-inf')\n",
    "    temp = [(0, 0)]*(n+1)\n",
    "    for i in range(1, n+1):\n",
    "        while head <= tail and i - temp[head][0] > m:\n",
    "            head += 1 \n",
    "        result = max(result, s[i] - temp[head][1])\n",
    "        while head <= tail and temp[tail][1] > s[i]:\n",
    "            tail -= 1\n",
    "        tail += 1\n",
    "        temp[tail] = (i, s[i])\n",
    "        \n",
    "    return result\n",
    "                    \n",
    "nums = [1, -3, 5, 1, -2, 3]\n",
    "m = 4\n",
    "print(max_subarray(nums, m))"
   ]
  },
  {
   "cell_type": "markdown",
   "metadata": {},
   "source": [
    "例二:\n",
    "滑动窗口：给一个长度为n的数组，一个长为k的滑动窗体从最左端移至最右端，你只能看到窗口中的 k个数，每次窗体向右移动一位,找出窗体在各个位置时的最大值和最小值"
   ]
  },
  {
   "cell_type": "code",
   "execution_count": 21,
   "metadata": {},
   "outputs": [
    {
     "name": "stdout",
     "output_type": "stream",
     "text": [
      "[-1, -3, -3, -3, 3, 3]\n",
      "[3, 3, 5, 5, 6, 7]\n"
     ]
    }
   ],
   "source": [
    "def sliding_window_minmax(nums, k):\n",
    "    n = len(nums)\n",
    "    if n < k:\n",
    "        return [0, 0]\n",
    "    result = [[0]*(n-k+1), [0]*(n-k+1)]\n",
    "    min_array, max_array = [(1, nums[0])]*(n-k+1), [(1, nums[0])]*(n-k+1)\n",
    "    min_head, min_tail, max_head, max_tail = 0, 0, 0, 0\n",
    "    for i in range(1, n):\n",
    "        while min_head <= min_tail and min_array[min_tail][1] > nums[i]:\n",
    "            min_tail -= 1\n",
    "        min_tail += 1\n",
    "        min_array[min_tail] = (i+1, nums[i])\n",
    "        while min_head <= min_tail and i+1 - min_array[min_head][0] >= k:\n",
    "            min_head += 1 \n",
    "        while max_head <= max_tail and max_array[max_tail][1] < nums[i]:\n",
    "            max_tail -= 1\n",
    "        max_tail += 1\n",
    "        max_array[max_tail] = (i+1, nums[i])\n",
    "        while max_head <= max_tail and i+1 - max_array[max_head][0] >= k:\n",
    "            max_head += 1\n",
    "            \n",
    "        if i >= k-1:\n",
    "            result[0][i-k+1] = min_array[min_head][1]\n",
    "            result[1][i-k+1] = max_array[max_head][1]\n",
    "    return result\n",
    "\n",
    "k = 3\n",
    "nums = [1, 3, -1, -3, 5, 3, 6, 7]\n",
    "result = sliding_window_minmax(nums, k)\n",
    "print(result[0])\n",
    "print(result[1])\n"
   ]
  },
  {
   "cell_type": "markdown",
   "metadata": {},
   "source": [
    "例三： 单调队列来优化多重背包问题"
   ]
  },
  {
   "cell_type": "code",
   "execution_count": 22,
   "metadata": {},
   "outputs": [
    {
     "name": "stdout",
     "output_type": "stream",
     "text": [
      "21\n"
     ]
    }
   ],
   "source": [
    "def multiplebagpack(weight, value, nums, capacity):\n",
    "    n = len(weight)\n",
    "    dp = [0]*(capacity+1)\n",
    "    for i in range(n):\n",
    "        nums[i] = min(nums[i], capacity//weight[i])\n",
    "    for i in range(n):\n",
    "        for mod in range(weight[i]):\n",
    "            temp = [0]*(max(nums[i], capacity//weight[i])+1)\n",
    "            head, tail = 0, 0            \n",
    "            for k in range(1, (capacity-mod)//weight[i]+1):\n",
    "                temp[0] = (0, dp[mod])\n",
    "                while head <= tail and dp[k*weight[i]+mod] - k*value[i] > temp[tail][1]:\n",
    "                    tail -= 1\n",
    "                tail += 1\n",
    "                temp[tail] = (k, dp[k*weight[i]+mod] - k*value[i])\n",
    "                while head <= tail and temp[head][0] < k - nums[i]:\n",
    "                    head += 1                    \n",
    "                dp[k*weight[i]+mod] = temp[head][1] + k*value[i]\n",
    "    return dp[-1]\n",
    "\n",
    "weight = [3, 4, 5, 6, 7]\n",
    "value = [5, 6, 9, 10, 11]\n",
    "nums = [1, 5, 1, 5, 5]\n",
    "capacity = 13\n",
    "print(multiplebagpack(weight, value, nums, capacity))"
   ]
  },
  {
   "cell_type": "code",
   "execution_count": null,
   "metadata": {},
   "outputs": [],
   "source": []
  }
 ],
 "metadata": {
  "kernelspec": {
   "display_name": "Python 3",
   "language": "python",
   "name": "python3"
  },
  "language_info": {
   "codemirror_mode": {
    "name": "ipython",
    "version": 3
   },
   "file_extension": ".py",
   "mimetype": "text/x-python",
   "name": "python",
   "nbconvert_exporter": "python",
   "pygments_lexer": "ipython3",
   "version": "3.7.3"
  }
 },
 "nbformat": 4,
 "nbformat_minor": 2
}
