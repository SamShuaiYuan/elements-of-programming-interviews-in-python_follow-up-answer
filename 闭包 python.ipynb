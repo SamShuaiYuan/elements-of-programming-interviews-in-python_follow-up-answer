{
 "cells": [
  {
   "cell_type": "markdown",
   "metadata": {},
   "source": [
    "# 闭包里变量作用域\n",
    "\n",
    "作用域是程序运行时变量可被访问的范围，定义在函数内的变量是局部变量，局部变量的作用范围只能是函数内部范围内，它不能在函数外引用。现在我们来考虑如下的例子"
   ]
  },
  {
   "cell_type": "code",
   "execution_count": 4,
   "metadata": {},
   "outputs": [
    {
     "name": "stdout",
     "output_type": "stream",
     "text": [
      "zen of python\n"
     ]
    }
   ],
   "source": [
    "def print_msg():\n",
    "    # print_msg 是外围函数\n",
    "    msg = \"zen of python\"\n",
    "    def printer():\n",
    "        # printer 是嵌套函数\n",
    "        print(msg)\n",
    "    return printer\n",
    "\n",
    "another = print_msg()\n",
    "# 输出 zen of python\n",
    "another()"
   ]
  },
  {
   "cell_type": "markdown",
   "metadata": {},
   "source": [
    "一般情况下，函数中的局部变量仅在函数的执行期间可用，一旦 print_msg() 执行过后，我们会认为 msg变量将不再可用。然而，在这里我们发现 print_msg 执行完之后，在调用 another 的时候 msg 变量的值正常输出了，这就是闭包的作用，闭包使得局部变量在函数外被访问成为可能。"
   ]
  },
  {
   "cell_type": "markdown",
   "metadata": {},
   "source": [
    "# 使用闭包的作用\n",
    "\n",
    "作用1：当闭包执行完后，仍然能够保持住当前的运行环境。\n",
    "\n",
    "作用2：闭包可以根据外部作用域的局部变量来得到不同的结果。\n",
    "\n",
    "作用3：闭包对数据的持久化以及按配置产生不同的功能，是很有帮助的\n",
    "\n",
    "\n",
    "闭包主要是在函数式开发过程中使用。 "
   ]
  },
  {
   "cell_type": "code",
   "execution_count": 30,
   "metadata": {},
   "outputs": [
    {
     "data": {
      "text/plain": [
       "11"
      ]
     },
     "execution_count": 30,
     "metadata": {},
     "output_type": "execute_result"
    }
   ],
   "source": [
    "def adder(x):\n",
    "    def wrapper(y):\n",
    "        return x + y\n",
    "    return wrapper\n",
    "\n",
    "adder5 = adder(5)\n",
    "# 输出 15\n",
    "adder5(10)\n",
    "# 输出 11\n",
    "adder5(6)"
   ]
  },
  {
   "cell_type": "code",
   "execution_count": 31,
   "metadata": {},
   "outputs": [
    {
     "name": "stdout",
     "output_type": "stream",
     "text": [
      "wrapper\n"
     ]
    }
   ],
   "source": [
    "print(adder5.__name__)"
   ]
  },
  {
   "cell_type": "markdown",
   "metadata": {},
   "source": [
    "当闭包执行完后，仍然能够保持住当前的运行环境\n",
    "\n",
    "举例： 闭包可以保存当前的运行环境，以一个类似棋盘游戏的例子来说明。假设棋盘大小为50*50，左上角为坐标系原点(0,0)，我需要一个函数，接收2个参数，分别为方向(direction)，步长(step)，该函数控制棋子的运动。 这里需要说明的是，每次运动的起点都是上次运动结束的终点。"
   ]
  },
  {
   "cell_type": "code",
   "execution_count": 47,
   "metadata": {},
   "outputs": [
    {
     "name": "stdout",
     "output_type": "stream",
     "text": [
      "[10, 0]\n",
      "[10, 20]\n",
      "[0, 20]\n"
     ]
    }
   ],
   "source": [
    "origin = [0, 0] \n",
    "legal_x = [0, 50]  \n",
    "legal_y = [0, 50] \n",
    "def create(pos=origin):   \n",
    "    def player(direction,step):    \n",
    "        # 这里应该首先判断参数direction,step的合法性，比如direction不能斜着走，step不能为负等    \n",
    "        # 然后还要对新生成的x，y坐标的合法性进行判断处理，这里主要是想介绍闭包，就不详细写了。    \n",
    "        new_x = pos[0] + direction[0]*step    \n",
    "        new_y = pos[1] + direction[1]*step    \n",
    "        pos[0] = new_x    \n",
    "        pos[1] = new_y    \n",
    "        #注意！此处不能写成 pos = [new_x, new_y]，因为参数变量不能被修改，而pos[]是容器类的解决方法 \n",
    "        return pos   \n",
    "    return player    \n",
    "\n",
    "player = create() # 创建棋子player，起点为原点  \n",
    "print(player([1,0],10)) # 向x轴正方向移动10步  \n",
    "print(player([0,1],20)) # 向y轴正方向移动20步  \n",
    "print(player([-1,0],10)) # 向x轴负方向移动10步 "
   ]
  },
  {
   "cell_type": "markdown",
   "metadata": {},
   "source": [
    "闭包可以根据外部作用域的局部变量来得到不同的结果\n",
    "\n",
    "这有点像一种类似配置功能的作用，我们可以修改外部的变量，闭包根据这个变量展现出不同的功能。比如有时我们需要对某些文件的特殊行进行分析，先要提取出这些特殊行。"
   ]
  },
  {
   "cell_type": "code",
   "execution_count": 48,
   "metadata": {},
   "outputs": [],
   "source": [
    "def make_filter(keep):   \n",
    "    def the_filter(file_name):    \n",
    "        file = open(file_name)    \n",
    "        lines = file.readlines()    \n",
    "        file.close()    \n",
    "        filter_doc = [i for i in lines if keep in i]    \n",
    "        return filter_doc   \n",
    "    return the_filter \n"
   ]
  },
  {
   "cell_type": "markdown",
   "metadata": {},
   "source": [
    "如果我们需要取得文件”result.txt”中含有”pass”关键字的行，则可以这样使用例子程序"
   ]
  },
  {
   "cell_type": "code",
   "execution_count": null,
   "metadata": {},
   "outputs": [],
   "source": [
    "filter = make_filter(\"pass\") \n",
    "filter_result = filter(\"result.txt\") "
   ]
  },
  {
   "cell_type": "markdown",
   "metadata": {},
   "source": [
    "# 闭包的_closure_属性\n",
    "\n",
    "一个函数和它的环境变量合在一起，就构成了一个闭包(closure)。在Python中，所谓的闭包是一个包含有环境变量取值的函数对象。环境变量取值被保存在函数对象的_closure_属性中。\n",
    "\n",
    "\n",
    "所有函数都有一个 __closure__属性，如果这个函数是一个闭包的话，那么它返回的是一个由 cell 对象 组成的元组对象。cell 对象的cell_contents 属性就是闭包中的自由变量。"
   ]
  },
  {
   "cell_type": "code",
   "execution_count": 7,
   "metadata": {},
   "outputs": [],
   "source": [
    "adder.__closure__"
   ]
  },
  {
   "cell_type": "code",
   "execution_count": 8,
   "metadata": {},
   "outputs": [
    {
     "data": {
      "text/plain": [
       "(<cell at 0x00000157BB852078: int object at 0x00007FFA168093C0>,)"
      ]
     },
     "execution_count": 8,
     "metadata": {},
     "output_type": "execute_result"
    }
   ],
   "source": [
    "adder5.__closure__\n",
    "# (<cell at 0x103075910: int object at 0x7fd251604518>,)"
   ]
  },
  {
   "cell_type": "code",
   "execution_count": 9,
   "metadata": {},
   "outputs": [
    {
     "data": {
      "text/plain": [
       "5"
      ]
     },
     "execution_count": 9,
     "metadata": {},
     "output_type": "execute_result"
    }
   ],
   "source": [
    "adder5.__closure__[0].cell_contents\n",
    "# 5"
   ]
  },
  {
   "cell_type": "markdown",
   "metadata": {},
   "source": [
    "# 使用闭包注意事项\n"
   ]
  },
  {
   "cell_type": "markdown",
   "metadata": {},
   "source": [
    "1 闭包中是不能修改外部作用域局部变量的值"
   ]
  },
  {
   "cell_type": "code",
   "execution_count": 34,
   "metadata": {},
   "outputs": [
    {
     "name": "stdout",
     "output_type": "stream",
     "text": [
      "--0\n",
      "++1\n",
      "==0\n",
      "最后打印:None\n"
     ]
    }
   ],
   "source": [
    "def func():\n",
    "    m = 0\n",
    "\n",
    "    def func_in():\n",
    "        m = 1\n",
    "        print(\"++%d\" % m)\n",
    "\n",
    "    print(\"--%d\" % m)\n",
    "    func_in()\n",
    "    print(\"==%d\" % m)\n",
    "\n",
    "\n",
    "print(\"最后打印:%s\" % func())\n"
   ]
  },
  {
   "cell_type": "markdown",
   "metadata": {},
   "source": [
    "2 局部变量的问题"
   ]
  },
  {
   "cell_type": "code",
   "execution_count": 36,
   "metadata": {},
   "outputs": [
    {
     "ename": "UnboundLocalError",
     "evalue": "local variable 'a' referenced before assignment",
     "output_type": "error",
     "traceback": [
      "\u001b[1;31m---------------------------------------------------------------------------\u001b[0m",
      "\u001b[1;31mUnboundLocalError\u001b[0m                         Traceback (most recent call last)",
      "\u001b[1;32m<ipython-input-36-c9bc1b0a11b3>\u001b[0m in \u001b[0;36m<module>\u001b[1;34m\u001b[0m\n\u001b[0;32m      7\u001b[0m     \u001b[1;32mreturn\u001b[0m \u001b[0mbar\u001b[0m\u001b[1;33m\u001b[0m\u001b[1;33m\u001b[0m\u001b[0m\n\u001b[0;32m      8\u001b[0m \u001b[0mf\u001b[0m\u001b[1;33m=\u001b[0m\u001b[0mfoo\u001b[0m\u001b[1;33m(\u001b[0m\u001b[1;33m)\u001b[0m\u001b[1;33m\u001b[0m\u001b[1;33m\u001b[0m\u001b[0m\n\u001b[1;32m----> 9\u001b[1;33m \u001b[0mprint\u001b[0m\u001b[1;33m(\u001b[0m\u001b[0mf\u001b[0m\u001b[1;33m(\u001b[0m\u001b[1;33m)\u001b[0m\u001b[1;33m)\u001b[0m\u001b[1;33m\u001b[0m\u001b[1;33m\u001b[0m\u001b[0m\n\u001b[0m",
      "\u001b[1;32m<ipython-input-36-c9bc1b0a11b3>\u001b[0m in \u001b[0;36mbar\u001b[1;34m()\u001b[0m\n\u001b[0;32m      2\u001b[0m     \u001b[0ma\u001b[0m \u001b[1;33m=\u001b[0m \u001b[1;36m1\u001b[0m\u001b[1;33m\u001b[0m\u001b[1;33m\u001b[0m\u001b[0m\n\u001b[0;32m      3\u001b[0m     \u001b[1;32mdef\u001b[0m \u001b[0mbar\u001b[0m\u001b[1;33m(\u001b[0m\u001b[1;33m)\u001b[0m\u001b[1;33m:\u001b[0m\u001b[1;33m\u001b[0m\u001b[1;33m\u001b[0m\u001b[0m\n\u001b[1;32m----> 4\u001b[1;33m         \u001b[0ma\u001b[0m \u001b[1;33m=\u001b[0m \u001b[0ma\u001b[0m \u001b[1;33m+\u001b[0m \u001b[1;36m1\u001b[0m\u001b[1;33m\u001b[0m\u001b[1;33m\u001b[0m\u001b[0m\n\u001b[0m\u001b[0;32m      5\u001b[0m         \u001b[1;32mreturn\u001b[0m \u001b[0ma\u001b[0m\u001b[1;33m\u001b[0m\u001b[1;33m\u001b[0m\u001b[0m\n\u001b[0;32m      6\u001b[0m \u001b[1;33m\u001b[0m\u001b[0m\n",
      "\u001b[1;31mUnboundLocalError\u001b[0m: local variable 'a' referenced before assignment"
     ]
    }
   ],
   "source": [
    "def foo():\n",
    "    a = 1\n",
    "    def bar():\n",
    "        a = a + 1\n",
    "        return a\n",
    "\n",
    "    return bar\n",
    "f=foo()\n",
    "print(f())"
   ]
  },
  {
   "cell_type": "markdown",
   "metadata": {},
   "source": [
    "这是因为在执行代码 f = foo()时，Python会导入全部的闭包函数体bar()来分析其的局部变量。Python规则指定所有在赋值语句左面的变量都是局部变量，则在闭包bar()中，变量a在赋值符号”=”的左面，被Python认为是bar()中的局部变量。再接下来执行print(f())时，程序运行至a = a + 1时，因为先前已经把a归为bar()中的局部变量，所以python会在bar()中去找在赋值语句右面的a的值，结果找不到，就会报错。\n",
    "两种解决办法"
   ]
  },
  {
   "cell_type": "code",
   "execution_count": 44,
   "metadata": {},
   "outputs": [
    {
     "name": "stdout",
     "output_type": "stream",
     "text": [
      "2\n"
     ]
    }
   ],
   "source": [
    "#第一种解决办法：自由变量为不可变对象\n",
    "# python3通过nonlocal关键字来解决，该语句显式的指定a不是闭包的局部变量\n",
    "def foo():\n",
    "    a = 1\n",
    "\n",
    "    def bar():\n",
    "        nonlocal a\n",
    "        a = a + 1\n",
    "        return a\n",
    "\n",
    "    return bar\n",
    "f=foo()\n",
    "print(f())"
   ]
  },
  {
   "cell_type": "code",
   "execution_count": 45,
   "metadata": {},
   "outputs": [
    {
     "name": "stdout",
     "output_type": "stream",
     "text": [
      "2\n"
     ]
    }
   ],
   "source": [
    "#第二种解决办法：不是太好，不建议，自由变量为可变对象\n",
    "# 在python3之前没有直接的解决方法，只能间接地通过容器类型来解决，\n",
    "# 因为容器类型不是存放在栈空间的，inner函数可以访问到。\n",
    "def foo():\n",
    "    a = [1]\n",
    "    def bar():\n",
    "        a[0] = a[0] + 1\n",
    "        return a[0]\n",
    "\n",
    "    return bar\n",
    "f=foo()\n",
    "print(f())"
   ]
  },
  {
   "cell_type": "markdown",
   "metadata": {},
   "source": [
    "3 Python函数式编程中一个问题"
   ]
  },
  {
   "cell_type": "code",
   "execution_count": 40,
   "metadata": {},
   "outputs": [
    {
     "name": "stdout",
     "output_type": "stream",
     "text": [
      "0\n",
      "1\n",
      "2\n",
      "3\n",
      "4\n",
      "5\n",
      "6\n",
      "7\n",
      "8\n",
      "9\n"
     ]
    }
   ],
   "source": [
    "for a in range(10): \n",
    "    print(a)"
   ]
  },
  {
   "cell_type": "markdown",
   "metadata": {},
   "source": [
    "在程序里面经常会出现这类的循环语句，Python的问题就在于：当循环结束以后，循环体中的临时变量a不会销毁，而是继续存在于执行环境中。\n",
    "\n",
    "还有一个Python的现象是:Python的函数只有在执行时，才会去找函数体里的变量的值。"
   ]
  },
  {
   "cell_type": "code",
   "execution_count": 41,
   "metadata": {},
   "outputs": [
    {
     "name": "stdout",
     "output_type": "stream",
     "text": [
      "a==0\n",
      "a==1\n",
      "a==2\n",
      "a--2\n",
      "4\n",
      "a++2\n",
      "a--2\n",
      "4\n",
      "a++2\n",
      "a--2\n",
      "4\n",
      "a++2\n"
     ]
    }
   ],
   "source": [
    "listname = []\n",
    "for a in range(3):\n",
    "    print(\"a==%s\" % a)\n",
    "    def foo(x):\n",
    "        print(\"a--%s\" % a)\n",
    "        print(x + a)\n",
    "        print(\"a++%s\" % a)\n",
    "    listname .append(foo)\n",
    "for f in listname :\n",
    "    f(2)\n"
   ]
  },
  {
   "cell_type": "markdown",
   "metadata": {},
   "source": [
    "可能有些人认为这段代码的执行结果应该是2,3,4.但是实际的结果是4,4,4。这是因为当把函数加入flist列表里时，Python还没有给a赋值，只有当执行时，再去找a的值是什么。这时在for循环语句中，已经将a的值赋值为2，所以以上代码的执行结果是4,4,4。\n",
    "\n",
    "如果要想结果是2，3，4，看如下代码修改："
   ]
  },
  {
   "cell_type": "code",
   "execution_count": 43,
   "metadata": {},
   "outputs": [
    {
     "name": "stdout",
     "output_type": "stream",
     "text": [
      "a==0\n",
      "a==1\n",
      "a==2\n",
      "a==2\n",
      "y--0\n",
      "2\n",
      "y++0\n",
      "a==2\n",
      "a==2\n",
      "y--1\n",
      "3\n",
      "y++1\n",
      "a==2\n",
      "a==2\n",
      "y--2\n",
      "4\n",
      "y++2\n",
      "a==2\n"
     ]
    }
   ],
   "source": [
    "listname = []\n",
    "for a in range(3):\n",
    "    print(\"a==%s\" % a)\n",
    "    def foo(x, y=a):\n",
    "        print(\"a==%s\" % a)\n",
    "        print(\"y--%s\" % y)\n",
    "        print(x + y)\n",
    "        print(\"y++%s\" % y)\n",
    "        print(\"a==%s\" % a)\n",
    "    listname.append(foo)\n",
    "for f in listname:\n",
    "    f(2)"
   ]
  },
  {
   "cell_type": "code",
   "execution_count": null,
   "metadata": {},
   "outputs": [],
   "source": []
  }
 ],
 "metadata": {
  "kernelspec": {
   "display_name": "Python 3",
   "language": "python",
   "name": "python3"
  },
  "language_info": {
   "codemirror_mode": {
    "name": "ipython",
    "version": 3
   },
   "file_extension": ".py",
   "mimetype": "text/x-python",
   "name": "python",
   "nbconvert_exporter": "python",
   "pygments_lexer": "ipython3",
   "version": "3.7.3"
  }
 },
 "nbformat": 4,
 "nbformat_minor": 2
}
