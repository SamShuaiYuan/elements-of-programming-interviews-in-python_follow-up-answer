{
 "cells": [
  {
   "cell_type": "markdown",
   "metadata": {},
   "source": [
    "# 数组大部分的题目是偏算法的，这部分主要讲以下两类数组问题：\n",
    "\n",
    "Sorted Array - 排序数组\n",
    "Subarray - 子数组\n",
    "目录：\n",
    "\n",
    "Merge Two Sorted Arrays（6 in lintcode）(★★★★★)\n",
    "Median of Two Sorted Arrays（65 in lintcode）(比较难★★★★★) quick select\n",
    "Maximum Subarray（41 in lintcode）\n",
    "Subarray Sum （138 in lintcode）\n",
    "Subarray Sum Closest （139 in lintcode）\n",
    "\n",
    "第一部分：Sorted Array - 排序数组\n",
    "1. Merge Two Sorted Arrays（6 in lintcode）\n",
    "\n",
    "1.1求解步骤\n",
    "step 1：新开辟一个放最终结果的数组，有三个指针i，j，k，分别指向A、B、C数组的下标；\n",
    "\n",
    "step 2：i，j指向的数比较大小，将较小的数放入新数组，修改i，j指针；\n",
    "\n",
    "step 3：将A或B剩余部分放入新数组。\n"
   ]
  },
  {
   "cell_type": "code",
   "execution_count": 1,
   "metadata": {},
   "outputs": [],
   "source": [
    "def merge(nums1, nums2):\n",
    "    if not nums1:\n",
    "        return nums2\n",
    "    if not nums2:\n",
    "        return nums1\n",
    "    result = [0]*(len(nums1) + len(nums2))\n",
    "    i, j, k = 0, 0, 0\n",
    "    while i<len(nums1) and j<len(nums2):\n",
    "        if nums1[i] < nums2[j]:\n",
    "            result[k] = nums1[i]\n",
    "            i += 1\n",
    "        else:\n",
    "            result[k] = nums2[j]\n",
    "            j += 1\n",
    "        k += 1\n",
    "    if i == len(nums1):\n",
    "        result[k:] = nums2[j:]\n",
    "    if j == len(nums2):\n",
    "        result[k:] = nums1[i:]\n",
    "        \n",
    "    return result"
   ]
  },
  {
   "cell_type": "markdown",
   "metadata": {},
   "source": [
    "1.3 该问题很简单，但是有很多follow up\n",
    "\n",
    "1.3.1 follow up1:将有序小数组归并到有序大数组里，大数组中空间足够大\n",
    "\n",
    "时间复杂度 O(m+n)\n",
    "\n",
    "从末尾开始向开头归并  --- 当题目说数组长度足够长时候，是一个用从后往前写的信号\n",
    "\n",
    "1.3.2 follow up2: 两个数组的交\n",
    "\n",
    "0). 题目链接\n",
    "\n",
    "• http://www.lintcode.com/problem/intersection-of-two-arrays/\n",
    "\n",
    "num1 = [1,2,2,1]，num2 = [2,2]， return [2]\n",
    "\n",
    "不止一种做法，面试官希望你提出多种做法，并比较时间复杂度。\n",
    "\n",
    "1). 方法1：quick sort + merge\n",
    "\n",
    "先排序，后merge，merge时碰到相同的则放入结果数组。\n",
    "\n",
    "time：O(nlogn + mlogm + n + m) = O(nlogn + mlogm)\n",
    "space：O(1)\n",
    "\n",
    "2). 方法2：hashSet\n",
    "\n",
    "先将一个数组丢到hashSet中，在判断另一个数组中的数是不是在hashSet中。\n",
    "\n",
    "time：O( n + m)\n",
    "\n",
    "space：O( min（n，m）)\n",
    "\n",
    "3). 方法3：binary search\n",
    "\n",
    "用二分法查询一个数是否在一个有序数组中。所以先对比较小的数组进行排序，然后用二分法依次判断大数组中的每个数是否在小数组中。\n",
    "\n",
    "如果n<m\n",
    "\n",
    "time：O(nlogn + mlogn) = O( (n+m)logn )\n",
    "\n",
    "space：O(1)\n",
    "\n",
    "4). 方法比较：\n",
    "\n",
    "hashSet和binary search 都是解决一个数是不是在一个集合中。\n",
    "\n",
    "方法1比方法3稍微差一点，但是方法2和3不能直接比较。\n",
    "\n",
    "方法1，3破坏了原数组，即破坏了输入，但方法2占用了额外空间。\n",
    "\n",
    "1.3.3 follow up3: 数组内积（点乘）\n",
    "\n",
    "Example [1,3] · [2,4] = 12 + 34 = 14\n",
    "\n",
    "Follow up: 两个数组都非常大，但是其中都包含很多0\n",
    "\n",
    "Example [1,0,0,0,0 …, 0, 2, 0,…, 0, 3] · [0,…, 0, 4, 0,…, 0, 5]\n",
    "\n",
    "这个题和AI是有关系的，本质就是向量相乘。本题更像一个设计题，用<pos，val>存数组。如：\n",
    "\n",
    "num1 = [<0,1>, <100,1>, <1000,1>]\n",
    "\n",
    "num2 = [<5,1000>, <100,1>, <999,1>]\n"
   ]
  },
  {
   "cell_type": "markdown",
   "metadata": {},
   "source": [
    "2. Median of Two Sorted Arrays（65 in lintcode）\n",
    "\n",
    "2.1 题目描述\n",
    "\n",
    "A = [1,3,5]\n",
    "\n",
    "B = [2,4,6]\n",
    "\n",
    "-> [1,2,3,4,5,6]    mid = (3+4)/2 = 3.5 (中间偏左，中间偏右)\n",
    "\n",
    "A = [1,3,5,7]\n",
    "\n",
    "B = [2,4,6]\n",
    "\n",
    "-> [1,2,3,4,5,6,7]    mid = 4\n",
    "\n",
    "2.2 find median in unsorted array。\n",
    "\n",
    "求解方案：quick select O(n) => find median(k=size/2) => find Kth\n",
    "\n",
    "quick select 的题目：\n",
    "\n",
    "Kth Largest Element 在未排序的数组中，找从大到小的第k个数 Kth Smallest Numbers in Unsorted Array \n",
    "\n",
    "2.3 本题的求解思路\n",
    "先求解 int findKth（int[ ] A, int[ ] B, int k） //不写实现，先写框架\n",
    "\n",
    " 主框架：double findMedianSortedArrays(vector<int> &A, vector<int> &B) {\n",
    "                        int n = A.size() + B.size();\n",
    "                        if(n%2 == 0){\n",
    "                               return ( findKth(A, B, n/2-1) + findKth(A, B, n/2) )/2;\n",
    "                        }\n",
    "                        return findkth(A, B, n/2);\n",
    "               }\n",
    "\n",
    "时间复杂度：O( log(m+n) ) 这是挑战。决定了不能使用先merge sort，在找中位数\n",
    "\n",
    "根据时间复杂度推测算法：O（log(m+n)） => O( log((m+n)/2) ) => O（log（k）） T(k) = T(k/2) + O(1) => log(k) 如果能用O(1)的时间将找第k大变成第k/2大。\n",
    "\n",
    "思路：\n",
    "\n",
    "step 1：比较A[k/2]和B[k/2]。\n",
    "step 2：将较小的数组中的k/2个数扔掉，用startIndex表示剩下的数\n",
    "step 3：截断后找第（k-k/2）大的数\n",
    "step 4：停止条件：a. A或B空，则为B或A 的第k大的数\n",
    "b. k=1，则A、B第一个数的较小者。\n",
    "特殊情况：\n",
    "如果A数组不够，则直接扔掉B数组的前k/2个。用INT_MAX\n"
   ]
  },
  {
   "cell_type": "code",
   "execution_count": 3,
   "metadata": {},
   "outputs": [
    {
     "name": "stdout",
     "output_type": "stream",
     "text": [
      "6\n"
     ]
    }
   ],
   "source": [
    "def medianTwoSortedArrays(A, B):\n",
    "    \n",
    "    def findKth(A, B, start1, start2, k):\n",
    "\n",
    "        if start1 >= len(A):\n",
    "            return B[start2+k-1] \n",
    "        if start2 >= len(B):\n",
    "            return A[start1+k-1]\n",
    "        if k == 0:\n",
    "            return 0\n",
    "        if k == 1:\n",
    "            return min(A[start1], B[start2])\n",
    "        temp1 = A[start1+k//2-1] if start1 + k//2 -1 < len(A) else float('inf')\n",
    "        temp2 = B[start2+k//2-1] if start2 + k//2 -1 < len(B) else float('inf')\n",
    "        if temp1 < temp2:\n",
    "            return findKth(A, B, start1+k//2, start2, (k+1)//2)  # k+1!!! \n",
    "        else:\n",
    "            return findKth(A, B, start1, start2+k//2, (k+1)//2)\n",
    "    n = len(A) + len(B)\n",
    "    if n == 0:\n",
    "        return\n",
    "    if n%2 == 0:\n",
    "        return ( findKth(A, B, 0, 0, n//2) + findKth(A, B, 0, 0, n//2+1) )/2.0\n",
    "    else:\n",
    "        return findKth(A, B, 0, 0, n//2+1)\n",
    "    \n",
    "A = [1, 3, 8, 9]\n",
    "B = [2, 4, 6, 7, 8]\n",
    "print(medianTwoSortedArrays(A, B))"
   ]
  },
  {
   "cell_type": "markdown",
   "metadata": {},
   "source": [
    "第二部分：Subarray - 子数组\n",
    "\n",
    "基础知识：\n",
    "\n",
    "1)前缀和\n",
    "\n",
    "令PrefixSum[ i ] = A[0] + A[1] + … + A[i-1], PrefixSum[0] = 0。前缀和数组的大小为：n+1。\n",
    "易知构造PrefixSum耗费O(n)的时间和 O(n)的空间。如需计算子数组从下标i到下标j之间的所有数之和，则有 Sum[i~j] = PrefixSum[j+1] - PrefixSum[i]\n",
    "\n",
    "PrefixSum[ i ]表示前i个数之和，即下标为0，1，2，…，i-1的数之和。\n",
    "\n",
    "2)常见问题\n",
    "哪个子数组最大？最小？ 子数组之和怎么样？之差？\n",
    "\n",
    "3. Maximum Subarray（41 in lintcode）\n",
    "\n",
    "3.0题目\n",
    "\n",
    "http://www.lintcode.com/zh-cn/problem/maximum-subarray/\n",
    "\n",
    "http://www.jiuzhang.com/solution/maximum-subarray/\n",
    "\n",
    "给定一个整数数组，找到一个具有最大和的子数组，返回其最大和。\n",
    "\n",
    "\n",
    "3.2 代码\n"
   ]
  },
  {
   "cell_type": "code",
   "execution_count": 6,
   "metadata": {},
   "outputs": [
    {
     "name": "stdout",
     "output_type": "stream",
     "text": [
      "8\n"
     ]
    }
   ],
   "source": [
    "def maxSubarray(nums):\n",
    "    if not nums:\n",
    "        return 0\n",
    "    n = len(nums)\n",
    "    preSum, minsubarray, result = 0, 0, float('-inf')\n",
    "    for num in nums:        \n",
    "        minsubarray = min(preSum, minsubarray)\n",
    "        preSum += num\n",
    "        result = max(result, preSum - minsubarray)\n",
    "    return result\n",
    "nums = [1, 2, 5, -3, -4, 6, 0]\n",
    "print(maxSubarray(nums))"
   ]
  },
  {
   "cell_type": "markdown",
   "metadata": {},
   "source": [
    "3.3 follow up- minimum SubArray\n",
    "\n",
    "直接将所有数取相反数，求Maximum- SubArray\n",
    "\n",
    "4. Subarray Sum （138 in lintcode）\n",
    "\n",
    "给定一个整数数组，找到和为零的子数组。你的代码应该返回满足要求的子数组的起始位置和结束位置"
   ]
  },
  {
   "cell_type": "code",
   "execution_count": 8,
   "metadata": {},
   "outputs": [
    {
     "name": "stdout",
     "output_type": "stream",
     "text": [
      "[(0, 1), (0, 3), (0, 5), (2, 3), (2, 5), (4, 5)]\n"
     ]
    }
   ],
   "source": [
    "def subarray_sum(nums):\n",
    "    pre_sum_pair, pre_sum, result = [(0, 0)], 0, []\n",
    "    for i, num in enumerate(nums):\n",
    "        pre_sum += num\n",
    "        pre_sum_pair.append((pre_sum, i+1))\n",
    "    pre_sum_pair.sort()\n",
    "    for i in range(len(pre_sum_pair) - 1):\n",
    "        j = i + 1\n",
    "        while pre_sum_pair[i][0] == pre_sum_pair[j][0]:\n",
    "            result.append((pre_sum_pair[i][1], pre_sum_pair[j][1]-1))\n",
    "            j += 1\n",
    "    return result\n",
    "        \n",
    "nums = [ 1, -1, 2, -2, 3, -3]\n",
    "print(subarray_sum(nums))\n",
    "    "
   ]
  },
  {
   "cell_type": "markdown",
   "metadata": {},
   "source": [
    "5.Subarray Sum Closest （139 in lintcode）\n",
    "\n",
    "5.1 题目\n",
    "\n",
    "http://www.lintcode.com/zh-cn/problem/subarray-sum-closest/\n",
    "http://www.jiuzhang.com/solution/subarray-sum-closest/\n",
    "\n",
    "给定一个整数数组，找到一个和最接近于零的子数组。返回第一个和最后一个下标。你的代码应该返回满足要求的子数组的起始位置和结束位置\n",
    "\n",
    "给出[-3, 1, 1, -3, 5]，返回[0, 2]，[1, 3]， [1, 1]， [2, 2] 或者 [0, 4]。\n"
   ]
  },
  {
   "cell_type": "code",
   "execution_count": 16,
   "metadata": {},
   "outputs": [
    {
     "name": "stdout",
     "output_type": "stream",
     "text": [
      "[1, 3]\n"
     ]
    }
   ],
   "source": [
    "def subarray_sum_closest(nums):\n",
    "    pre_sum, pre_sum_pair, gap = 0, [(0, 0)], []\n",
    "    for i, num in enumerate(nums):\n",
    "        pre_sum += num\n",
    "        pre_sum_pair.append((pre_sum, i+1))\n",
    "    pre_sum_pair.sort()\n",
    "    for i in range(len(pre_sum_pair)-1):\n",
    "        gap.append(abs(pre_sum_pair[i+1][0] - pre_sum_pair[i][0]))\n",
    "    idx = gap.index(min(gap)) # Same element present >1, returns the index of the first occurrence of the element\n",
    "    if pre_sum_pair[idx+1][1] < pre_sum_pair[idx][1]:\n",
    "        return [pre_sum_pair[idx+1][1], pre_sum_pair[idx][1]-1] # do not forget -1!!!\n",
    "    else:\n",
    "        return [pre_sum_pair[idx][1], pre_sum_pair[idx+1][1]-1]\n",
    "\n",
    "nums = [-3, 1, 1, -3, 5]\n",
    "print(subarray_sum_closest(nums))"
   ]
  },
  {
   "cell_type": "code",
   "execution_count": null,
   "metadata": {},
   "outputs": [],
   "source": []
  }
 ],
 "metadata": {
  "kernelspec": {
   "display_name": "Python 3",
   "language": "python",
   "name": "python3"
  },
  "language_info": {
   "codemirror_mode": {
    "name": "ipython",
    "version": 3
   },
   "file_extension": ".py",
   "mimetype": "text/x-python",
   "name": "python",
   "nbconvert_exporter": "python",
   "pygments_lexer": "ipython3",
   "version": "3.7.3"
  }
 },
 "nbformat": 4,
 "nbformat_minor": 2
}
