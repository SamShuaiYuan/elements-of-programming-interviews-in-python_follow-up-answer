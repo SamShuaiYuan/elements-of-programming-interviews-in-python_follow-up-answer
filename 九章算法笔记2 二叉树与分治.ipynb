{
 "cells": [
  {
   "cell_type": "code",
   "execution_count": 16,
   "metadata": {},
   "outputs": [
    {
     "data": {
      "text/latex": [
       "$T(n)=aT(n/b) + f(n)$"
      ],
      "text/plain": [
       "<IPython.core.display.Latex object>"
      ]
     },
     "execution_count": 16,
     "metadata": {},
     "output_type": "execute_result"
    }
   ],
   "source": [
    "from IPython.display import Latex\n",
    "Latex(r'$T(n)=aT(n/b) + f(n)$')\n"
   ]
  },
  {
   "cell_type": "code",
   "execution_count": 17,
   "metadata": {},
   "outputs": [
    {
     "data": {
      "text/latex": [
       "$T(n) = \\phi(n^{log_b a}) + \\sum_{j=0}^{log_b n - 1}a^j f(n/b^j)$"
      ],
      "text/plain": [
       "<IPython.core.display.Latex object>"
      ]
     },
     "execution_count": 17,
     "metadata": {},
     "output_type": "execute_result"
    }
   ],
   "source": [
    "Latex(r'$T(n) = \\phi(n^{log_b a}) + \\sum_{j=0}^{log_b n - 1}a^j f(n/b^j)$')"
   ]
  },
  {
   "cell_type": "markdown",
   "metadata": {},
   "source": [
    "#### 时间复杂度分析\n",
    "主定理：\n",
    "\n",
    "令a 大于等于1， b大于1是常数，f(n)是一个函数， T(n)=aT(n/b) + f(n), (n/b 可以是上取整数或者下取整数)， 那么\n",
    "\n",
    "1. 若对某个常数\\epsilon > 0 有 f(n) = O(n^{log_b(a-\\epsilon)}), 则T(n) = \\phi(n^{log_b(a)})\n",
    "                                                                      \n",
    "2. 若 f(n) = \\phi(n^{log_b(a)}), 则T(n) = \\phi(n^{log_b(a)}lg n)\n",
    "\n",
    "3. 若对某个常数\\epsilon > 0 有 f(n) = \\Omega(n^{log_b(a+\\epsilon)}), 且对某个常数c<1 和所有足够大的n有 af(n/b)<=cf(n), 则T(n) = \\phi(f(n))\n"
   ]
  },
  {
   "cell_type": "markdown",
   "metadata": {},
   "source": [
    "#### 一些要点\n",
    "二叉属搜索的中序遍历是nondecreasing 序列"
   ]
  },
  {
   "cell_type": "markdown",
   "metadata": {},
   "source": [
    "# 分治\n",
    "\n",
    "分治介绍\n",
    "\n",
    "分治法所能解决的问题一般具有以下几个特征：\n",
    "\n",
    "1) 该问题的规模缩小到一定的程度就可以容易地解决\n",
    "\n",
    "2) 该问题可以分解为若干个规模较小的相同问题，即该问题具有最优子结构性质。\n",
    "\n",
    "3) 利用该问题分解出的子问题的解可以合并为该问题的解；\n",
    "\n",
    "4) 该问题所分解出的各个子问题是相互独立的，即子问题之间不包含公共的子子问题。\n",
    "\n",
    "上述的第一条特征是绝大多数问题都可以满足的，因为问题的计算复杂性一般是随着问题规模的增加而增加；第二条特征是应用分治法的前提它也是大多数问题可以满足的，此特征反映了递归思想的应用；第三条特征是关键，能否利用分治法完全取决于问题是否具有第三条特征，如果具备了第一条和第二条特征，而不具备第三条特征，则可以考虑用贪心法或动态规划法。第四条特征涉及到分治法的效率，如果各子问题是不独立的则分治法要做许多不必要的工作，重复地解公共的子问题，此时虽然可用分治法，但一般用动态规划法较好。\n",
    "\n",
    "分治法的基本步骤\n",
    "\n",
    "分治法在每一层递归上都有三个步骤：\n",
    "\n",
    "分解：将原问题分解为若干个规模较小，相互独立，与原问题形式相同的子问题；\n",
    "\n",
    "解决：若子问题规模较小而容易被解决则直接解，否则递归地解各个子问题\n",
    "\n",
    "合并：将各个子问题的解合并为原问题的解。\n",
    "\n",
    "它的一般的算法设计模式如下：\n",
    "\n",
    "Divide-and-Conquer(P)\n",
    "\n",
    "1. if |P|≤n0\n",
    "\n",
    "2. then return(ADHOC(P))\n",
    "\n",
    "3. 将P分解为较小的子问题 P1 ,P2 ,...,Pk\n",
    "\n",
    "4. for i←1 to k\n",
    "\n",
    "5. do yi ← Divide-and-Conquer(Pi) △ 递归解决Pi\n",
    "\n",
    "6. T ← MERGE(y1,y2,...,yk) △ 合并子问题\n",
    "\n",
    "7. return(T)\n"
   ]
  },
  {
   "cell_type": "markdown",
   "metadata": {},
   "source": [
    "### 例题\n",
    "\n",
    "例1：二分查找\n",
    "\n",
    "条件：数组有序，假设是升序数组\n",
    "\n",
    "虽然二分很容易，但是我还是要具体从算法思想分治的方向分析一下\n",
    "\n",
    "现在我们要在一个有序的升序数组里面查找一个数x有没有\n",
    "\n",
    "暴力的做法就是拿跟数组里面每个数比较一下，有的话就返回下标，这个是大问题\n",
    "\n",
    "仔细想一下，就知道这个大问题是由很多小问题组成的，小问题：在数组的一部分里面找x\n",
    "\n",
    "那么我们可以把数组分成很多部分，在很多部分里面找x，如果在这些部分里面没有找到x，那么把这些子问题合并起来，就是大数组里面没有x，否则就是有x\n",
    "\n",
    "这个很好的反应了分治的思想，先分解成很多小问题，解决这些小问题，把解决的小问题合并起来\n"
   ]
  },
  {
   "cell_type": "code",
   "execution_count": 20,
   "metadata": {},
   "outputs": [
    {
     "name": "stdout",
     "output_type": "stream",
     "text": [
      "3\n"
     ]
    }
   ],
   "source": [
    "def find_target(nums, target):\n",
    "    \n",
    "    def find_target_helper(nums, target, left, right):\n",
    "        if left > right:\n",
    "            return -1\n",
    "        mid = left + (right - left)//2\n",
    "        if nums[mid] == target:\n",
    "            return mid\n",
    "        elif nums[mid] < target:\n",
    "            return find_target_helper(nums, target, mid+1, right)\n",
    "        else:\n",
    "            return find_target_helper(nums, target, left, mid-1)\n",
    "        \n",
    "    left, right = 0, len(nums) - 1\n",
    "    return find_target_helper(nums, target, left, right)\n",
    "\n",
    "nums = [0, 1, 2, 3, 4, 5]\n",
    "target = 3\n",
    "print(find_target(nums, target))"
   ]
  },
  {
   "cell_type": "markdown",
   "metadata": {},
   "source": [
    "例二：全排列问题\n",
    "\n",
    "有1，2，3，4个数，问你有多少种排列方法，输出来\n",
    "\n",
    "仔细想想，采用分治的话，我们就要把大问题分解成很多的子问题，大问题是所有的排列方法\n",
    "\n",
    "那么我们分解得到的小问题就是以1开头的排列，以2开头的排列，以3开头的排列，以4开头的排列\n",
    "\n",
    "现在这些问题有能继续分解，比如以1开头的排列中，只确定了1的位置，没有确定2，3，4的位置，把2\n",
    "\n",
    "3，4三个又看成大问题继续分解，2做第二个，3做第二个，或者4做第二个\n",
    "\n",
    "一直分解下去，直到分解成的子问题只有一个数字的时候，不再分解\n"
   ]
  },
  {
   "cell_type": "code",
   "execution_count": 22,
   "metadata": {},
   "outputs": [],
   "source": [
    "def permutaion(nums):\n",
    "    def permutaion_helper(nums, i):\n",
    "        if i == len(nums) - 1:\n",
    "            result.append(nums.copy())\n",
    "            return\n",
    "        for j in range(i, len(nums)):\n",
    "            nums[i], nums[j] = nums[j], nums[i]\n",
    "            permutaion_helper(nums, i+1)\n",
    "            nums[i], nums[j] = nums[j], nums[i]\n",
    "    \n",
    "    result = []\n",
    "    permutation_helper(nums, 0)\n",
    "    return result        "
   ]
  },
  {
   "cell_type": "markdown",
   "metadata": {},
   "source": [
    "\n"
   ]
  },
  {
   "cell_type": "markdown",
   "metadata": {},
   "source": [
    "经典样例三：整数划分问题\n",
    "\n",
    "给你一个数，问你所有的划分方式，比如4，4=1+3，4=1+1+2，4=2+2，4=1+1+1+1 我们来分析一下，我们想用分治的话，就要找子问题。\n",
    "\n",
    "假设n是要划分的数，m说最大的加数，n=4，m=3 分解成两类的子问题，一个是：一个是有m的情况，一个是没有m的情况，然后将有m的情况继续划分，分解成有m-1和没有m-1的情况，一直划分下去，直到m=1，比如n=4，m=3，划分成的子问题：有3，无3，有2，无2，有1，无1（没有意义，除非0+4=4），将这些子问题合并起来大问题就解决了，比如有3：1+3，没有3分成有2，和无2，有2：1+1+2，2+2,无2分成有1：1+1+1+1，一共四种解决方案。我们来理一下思路：划分成子问题，解决这些子问题，合并\n",
    "\n",
    "但是注意：这个问题里面的子问题有很多是重复的，大量重复子问题，比如n=5，m=4，1+4=5，1+1+3=5，2+3=5，求3有几种划分方法的时候求了2次，如果n很大的话，那么就会有大量的重复子问题，这个时候可以采用dp"
   ]
  },
  {
   "cell_type": "code",
   "execution_count": null,
   "metadata": {},
   "outputs": [],
   "source": [
    "def partition(n):\n",
    "    if n <=1:\n",
    "        return 1\n",
    "    result = 0\n",
    "    def partition_helper(n, m):\n",
    "        if m == 1 or n == 1:\n",
    "            return 1\n",
    "        if n < m:\n",
    "            return partition_helper(n, n)\n",
    "        elif n == m:\n",
    "            return partition_helper(n, m-1) + 1\n",
    "        else:\n",
    "            return partition_helper(n, m-1) + partition_helper(n-m, m)\n",
    "    result = partition_helper(n, n)    \n",
    "    return result   \n"
   ]
  },
  {
   "cell_type": "markdown",
   "metadata": {},
   "source": [
    "经典样例四：归并排序\n",
    "\n",
    "把一个无序的数组，变成一个有序的数组，这个是大问题，根据分治的思想，要分解成很多的小问题，比如无序数组8个数，要使得数组有序，即使得这8个数有序，分解成两个子问题：使得前面4个数有序，使得后面的四个数有序，然后继续分解，在前面的4个数字中，又把它看成一个大问题，继续分解成两个小问题：使得前面两个数有序，使得后面两个数有序，直到小问题数组中只有一个数为止，因为一个数的数组肯定是有序的，小问题解决之后，还需要合并成一个大一点的问题，这样这个大一点的问题就也解决了，然后将两个大一点的问题继续合并成一个更大一点的问题，这样这个更大一点的问题也解决了，直到最后，最大的问题也解决了，这个就是分治思想在归并排序中的应用"
   ]
  },
  {
   "cell_type": "code",
   "execution_count": 2,
   "metadata": {},
   "outputs": [
    {
     "name": "stdout",
     "output_type": "stream",
     "text": [
      "[1, 2, 3, 4, 5, 6]\n"
     ]
    }
   ],
   "source": [
    "def merge_sort(nums, s, t):\n",
    "    if t >= len(nums):\n",
    "        print('wrong input')\n",
    "    if s >= t:\n",
    "        return\n",
    "    else:\n",
    "        mid = (s+t)//2\n",
    "        merge_sort(nums, s, mid)\n",
    "        merge_sort(nums, mid+1, t)\n",
    "        merge(nums, s, mid, t)\n",
    "def merge(nums, s, m, t):\n",
    "    i, j, idx = m, t, t-s\n",
    "    temp = nums[s:t+1]\n",
    "    while i>=s and j>m:\n",
    "        if nums[i]>nums[j]:\n",
    "            temp[idx] = nums[i]\n",
    "            idx, i = idx-1, i-1\n",
    "        else:\n",
    "            idx, j = idx-1, j-1\n",
    "    if i == s-1:\n",
    "        temp[:idx+1] = nums[m+1:j+1] \n",
    "    nums[s:t+1] = temp\n",
    "\n",
    "nums = [4, 5, 6, 1, 2, 3]\n",
    "merge_sort(nums, 0, 5)\n",
    "print(nums)\n",
    "            "
   ]
  },
  {
   "cell_type": "markdown",
   "metadata": {},
   "source": [
    "经典样例五：棋盘覆盖问题\n",
    "在棋盘的某个位置给了你一个不可覆盖点，现在大问题是问我们怎么用L形状块覆盖整个棋盘，现在我们要把大问题分解成很多的子问题：把整块大棋盘分成同样大小的四个棋盘，直到分解成的棋盘大小为1，就是只有一个格子的时候，不再分解，所以最小的子问题就是四个格子的棋盘，如果这个四个格子的棋盘有不可覆盖点的话，那么就进行棋盘覆盖，如果没有的话就进行覆盖点的构造然后在覆盖（先不讲怎么判断，怎么构造，只讲思想，具体做法我有专门的博客），所以这样我们就解决了这个四个格子的棋盘，把所有的这样的小问题解决的，也就是把解决好的小棋盘合并起来不就构成了我们需要的大棋盘吗？\n",
    "\n",
    "理清一下思路：\n",
    "\n",
    "分解棋盘（分解成四个小棋盘，一直分解下去，直到棋盘大小为1）\n",
    "\n",
    "解决问题（是直接覆盖还是先构造再覆盖）\n",
    "\n",
    "合并已经解决的问题（将已经解决的所有小问题合并起来就构成了我们需要覆盖的大棋盘，且此时大棋盘也已经覆盖好了）\n"
   ]
  },
  {
   "cell_type": "code",
   "execution_count": 8,
   "metadata": {},
   "outputs": [
    {
     "name": "stdout",
     "output_type": "stream",
     "text": [
      "[[1, 1, 1, 1, 1, 1, 1, 1], [1, 1, 1, 1, 1, 1, 1, 1], [1, 1, 0, 1, 1, 1, 1, 1], [1, 1, 1, 1, 1, 1, 1, 1], [1, 1, 1, 1, 1, 1, 1, 1], [1, 1, 1, 1, 1, 1, 1, 1], [1, 1, 1, 1, 1, 1, 1, 1], [1, 1, 1, 1, 1, 1, 1, 1]]\n"
     ]
    }
   ],
   "source": [
    "def board(k, x, y):\n",
    "    chessboard = [[0]*2**k for _ in range(2**k)]\n",
    "    \n",
    "    def board_helper(r, c, x, y, k):\n",
    "        if k == 0:\n",
    "            return\n",
    "        size = 2**k\n",
    "        mark = 0\n",
    "        mark += 1\n",
    "        half_size = size//2\n",
    "        if x < r+half_size and y<c+half_size:\n",
    "            board_helper(r, c, x, y, k-1)\n",
    "        else:\n",
    "            chessboard[r+half_size-1][c+half_size-1] = mark\n",
    "            board_helper(r, c, r+half_size-1, c+half_size-1, k-1)\n",
    "        \n",
    "        if x < r+half_size and y>=c+half_size:\n",
    "            board_helper(r, c+half_size, x, y, k-1)\n",
    "        else:\n",
    "            chessboard[r + half_size - 1][c + half_size] = mark\n",
    "            board_helper(r, c + half_size, r + half_size - 1, c + half_size, k-1)\n",
    "            \n",
    "        if x >= r+half_size and y < c+half_size:\n",
    "            board_helper(r+half_size, c, x, y, k-1)\n",
    "        else:\n",
    "            chessboard[r+half_size][c+half_size-1] = mark\n",
    "            board_helper(r+half_size, c, r+half_size, c+half_size-1, k-1)\n",
    "            \n",
    "        if x >= r+half_size and y >= c+half_size:\n",
    "            board_helper(r+half_size, c+half_size, x, y, k-1)\n",
    "        else:\n",
    "            chessboard[r+half_size][c+half_size] = mark\n",
    "            board_helper(r+half_size, c+half_size, r+half_size, c+half_size, k-1)\n",
    "    board_helper(0, 0, x, y, k)\n",
    "    return chessboard\n",
    "\n",
    "print(board(3, 2, 2))\n",
    "       "
   ]
  },
  {
   "cell_type": "markdown",
   "metadata": {},
   "source": [
    "经典样例六：快速排序\n",
    "经典样例七：求第k小/大元素\n",
    "\n"
   ]
  },
  {
   "cell_type": "markdown",
   "metadata": {},
   "source": [
    "CDQ分治是我们处理各类问题的重要武器\n",
    "\n",
    "它的优势在于可以顶替复杂的高级数据结构，而且常数比较小；\n",
    "\n",
    "缺点在于必须离线操作"
   ]
  },
  {
   "cell_type": "markdown",
   "metadata": {},
   "source": [
    "cdq 的东西其实原理和写法上并不相同不过我们可以大概的将它们分为三类\n",
    "\n",
    "1.cdq 分治解决和点对有关的问题\n",
    "\n",
    "2.cdq 分治优化 1D/1D 动态规划的转移\n",
    "\n",
    "3. 通过 cdq 分治，将一些动态问题转化为静态问题\n",
    "\n",
    "这类问题一般是给你一个长度为n的序列，然后让你统计有一些特性的点对(i,j)有多少个，又或者说是找到一对点(i,j)使得一些函数的值最大之类的问题\n",
    "\n",
    "那么 cdq 分治基于这样一个算法流程解决这类问题\n",
    "\n",
    "1. 找到这个序列的中点mid\n",
    "\n",
    "2. 将所有点对(i,j)划分为 3 类\n",
    "\n",
    "第一种是1<=i<=mid, 1<=j<=mid的点对\n",
    "\n",
    "第二种是1<=i<=mid, mid+1<=j<=n的点对\n",
    "\n",
    "第三种是mid+1<=i<=n, mid+1<=j<=n的点对\n",
    "\n",
    "3. 将(i,j)这个序列拆成两个序列(1,mid)和 (mid+1,n)会发现第一类点对和第三类点对都在这两个序列之中，递归的去解决这两类点对\n",
    "\n",
    "4. 想方设法处理一下第二类点对的信息\n",
    "\n",
    "实际应用的时候我们通常都是写一个函数solve(l,r)表示我们正在处理l<-i<=r, l<=j<=r的点对,所以刚才的算法流程中的递归部分我们就是通过solve(l,mid),solve(mid+1,r)实现的,所以说 cdq 分治只是一种十分模糊的思想，可以看到这种思想就是不断的把点对通过递归的方式分给左右两个区间,至于我们设计出来的算法真正干活的部分就是第 4 部分需要我们想方设法解决的部分了,所以说让我们上几道例题看一下第四部分一般该怎么写\n",
    "\n",
    "比如说我们来一个 cdq 分治的经典问题——三维偏序\n",
    "给定一个序列，每个点有两个属性(a,b)，试求：这个序列里有多少对点对(i,j)满足i<j,a_i<a_j, b_i<b_j "
   ]
  }
 ],
 "metadata": {
  "kernelspec": {
   "display_name": "Python 3",
   "language": "python",
   "name": "python3"
  },
  "language_info": {
   "codemirror_mode": {
    "name": "ipython",
    "version": 3
   },
   "file_extension": ".py",
   "mimetype": "text/x-python",
   "name": "python",
   "nbconvert_exporter": "python",
   "pygments_lexer": "ipython3",
   "version": "3.7.3"
  }
 },
 "nbformat": 4,
 "nbformat_minor": 2
}
